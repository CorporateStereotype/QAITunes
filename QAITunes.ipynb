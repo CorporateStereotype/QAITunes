{
  "nbformat": 4,
  "nbformat_minor": 0,
  "metadata": {
    "colab": {
      "provenance": [],
      "authorship_tag": "ABX9TyNpC8XwROjUv1sEV61y/QD3",
      "include_colab_link": true
    },
    "kernelspec": {
      "name": "python3",
      "display_name": "Python 3"
    },
    "language_info": {
      "name": "python"
    }
  },
  "cells": [
    {
      "cell_type": "markdown",
      "metadata": {
        "id": "view-in-github",
        "colab_type": "text"
      },
      "source": [
        "<a href=\"https://colab.research.google.com/github/CorporateStereotype/QAITunes/blob/main/QAITunes.ipynb\" target=\"_parent\"><img src=\"https://colab.research.google.com/assets/colab-badge.svg\" alt=\"Open In Colab\"/></a>"
      ]
    },
    {
      "cell_type": "markdown",
      "source": [
        "Author: Flint Adkins\n",
        "Date: 20241221\n",
        "\n",
        "1. Attribution (Credit Must Be Given)  \n",
        "You are free to view, read, and cite this work, but you must **attribute credit** to the original creator, Flint Adkins in any use of the ideas, frameworks, concepts, or mathematical models presented in this work. Proper attribution must include:  \n",
        "- The author's name (**Flint Adkins**).  \n",
        "- The title of the work (**Formula For Zero: Unified Theoretical Framework**).  \n",
        "- A citation link to the https://doi.org/10.17605/OSF.IO/3TN7F  or the source where the work is hosted.  \n",
        "\n",
        "2. Non-Commercial Use Only  \n",
        "You **may not use this work for commercial purposes**. This includes selling, licensing, or using the concepts, mathematical models, designs, or frameworks for any commercial, for-profit, or monetary gain. To seek **commercial use rights**, you must obtain prior written permission from the author, **Flint Adkins**.  \n",
        "\n",
        "3. No Derivatives  \n",
        "You **may not modify, remix, adapt, or create derivative works** from this content without explicit permission from the author, **Flint Adkins**.  \n",
        "- You can read, share, and cite the work as it is, but you cannot modify, change, or create new works that are \"based on\" this framework without permission.  \n",
        "- To obtain permission to create derivatives, you must contact the author directly.  \n",
        "\n",
        "4. Right to Request Removal  \n",
        "The author, **Flint Adkins**, reserves the right to request the removal of unauthorized copies, commercial use, or derivative works that violate the terms of this license.  \n",
        "\n",
        "5. Legal Enforcement  \n",
        "Any use of this work that violates the terms of this license is subject to copyright enforcement under **international copyright law**. If you wish to negotiate rights for commercial use, derivatives, or modifications, please contact the author at **flintadkins@gmail.com**.  \n",
        "\n",
        "6. Limitations and Disclaimers  \n",
        "This work is provided \"as-is,\" without warranty of any kind, either expressed or implied. The author disclaims all liability for potential misuse or misinterpretation of the contents.  \n",
        "\n",
        "7. Applicable Jurisdiction  \n",
        "This license is governed by the copyright laws of **United States of America**. Any disputes related to this license will be resolved according to the laws of **United States of America**.  "
      ],
      "metadata": {
        "id": "b96xCO1SEQzW"
      }
    },
    {
      "cell_type": "markdown",
      "source": [
        "Corporate Quantum AI Music Generator\n",
        "#################################\n",
        "\n",
        "\n",
        "Qiskit provides full-fledged quantum simulation including Fourier Transforms (useful for harmonic layering).\n",
        "\n",
        "Cirq is simpler but still models entanglement and rhythm-harmony interaction.\n",
        "\n",
        "PennyLane is best for AI-based music since it can learn quantum music patterns dynamically.\n",
        "\n",
        "\n",
        "Qiskit Explanation:\n",
        "\n",
        "Superposition: Hadamard gates create a mix of musical paths.\n",
        "Entanglement: CNOT gates link melody, harmony, and rhythm.\n",
        "Quantum interference: Phase gates introduce harmonic variations.\n",
        "Fractal Harmony & Layering: QFT enables recursive harmonic structures.\n",
        "\n",
        "Superposition\t\t✅ Hadamard Gates\n",
        "Entanglement\t\t✅ CNOT Gates\n",
        "Quantum Interference\t✅ Phase Gates\n",
        "Fractal Harmony\t\t✅ QFT\n",
        "AI Learning\t\t❌ No AI\n",
        "\n",
        "Cirq Explanation:\n",
        "\n",
        "Uses entanglement to ensure melody, harmony, and rhythm interact.\n",
        "Introduces phase shifts to alter harmonic coloring.\n",
        "Measures the quantum state to finalize the composition.\n",
        "\n",
        "\n",
        "Superposition\t\t✅ Hadamard Gates\n",
        "Entanglement\t\t✅ CNOT Gates\n",
        "Quantum Interference\t✅ Phase Gates\n",
        "Fractal Harmony\t\t❌ No QFT\n",
        "AI Learning\t\t❌ No AI\n",
        "\n",
        "\n",
        "\n",
        "Penny Lane Explanation:\n",
        "\n",
        "Uses variational quantum circuits (VQCs) for AI-driven quantum music learning.\n",
        "Probabilistic music selection is done via parameterized RX, RY, and RZ gates.\n",
        "Hybrid classical-quantum approach enables AI-based quantum music optimization.\n",
        "\n",
        "Superposition\t\t✅ Hadamard Gates\n",
        "Entanglement\t\t✅ CNOT Gates\n",
        "Quantum Interference\t✅ Parameterized Gates\n",
        "Fractal Harmony\t\t✅ VQCs for learning\n",
        "AI Learning\t\t✅ Yes (Hybrid AI-Quantum)\n",
        "\n"
      ],
      "metadata": {
        "id": "_U9DTXcgAGYH"
      }
    },
    {
      "cell_type": "code",
      "source": [],
      "metadata": {
        "id": "lqUsCE7pCbYE"
      },
      "execution_count": null,
      "outputs": []
    },
    {
      "cell_type": "markdown",
      "source": [
        "1. Qiskit Results\n",
        "Quantum Music State Distribution:\n",
        "\n",
        "{'110': 203, '010': 215, '000': 454, '111': 120, '011': 32}\n",
        "\n",
        "Interpretation:\n",
        "State \"000\" (454 counts) is the most frequent, indicating a bias toward low-energy states (default musical patterns).\n",
        "State \"010\" (215 counts) and \"110\" (203 counts) appear frequently, suggesting common musical structures (harmony and melody sync).\n",
        "State \"111\" (120 counts) is less frequent, showing that high-energy superpositions (complex syncopation or dense harmonies) occur but are rarer.\n",
        "State \"011\" (32 counts) is rare, likely because entangled musical states tend to resolve into dominant harmonic structures.\n",
        "\n",
        "\n",
        "✅ Qiskit successfully models harmonic layering and syncopation using quantum principles.\n",
        "\n",
        "2. Cirq Results:\n",
        "\n",
        "Cirq results:\n",
        "\n",
        "The Cirq results provide a raw binary string output, which we interpret by counting occurrences of each state across the three qubits (melody, harmony, rhythm).\n",
        "\n",
        "Quantum Music State Distribution:\n",
        "\n",
        "q(0)=1010111111111001110110111010011001110100100010010101101001110110011000100000111000100111000101100001010110101100001000101110001000100110111011000001000101101101100111100011111111100010111010100101011101111010111100010011010001010100011001011111111110001101101001011011111011110001100110100000011011111010010000101010111010001111011000001000111110101100010000000011000001000010100110010011010111111111000001110111000010010000100000010111010010110111000100010000010001110111010001101100010101110101111011100000111001101010100101100011100011011011010111101110100001000110100110010110111100111110011110011010000111100100001101110100010101110000000100100100000010111010010001101101111110100010011111111100000000000010111101001110100100100000110100110001110010100011100110010000111010101011100000000111010110110001111110011111101011010101111011011101010100010101100000010000000100011011110010101010001010110010111101000010101011111101010001010010111000000110011010011010101110000110111100101111010010100111101100101100101011101011\n",
        "\n",
        "q(1)=0010010100001100001011011011111010101001110011001010110101111011110000001010101101101011100101110001100011100111000011110100110001100010001011010000110011010111011011110000111000100110010001010111101110111111001010010000001000101110011010010110111011011101010101101010111100000101010101100101100111001010111010110111101001011010000000010010011010010010111111001001111100011011110110010011101001001111011101001100100110101001001001010011000100011110110011010011010100101001001000111101011100111010001000100110101100101001011001101001111010001010001011111001111011000111111101001000111000000010100100101101011110100011110111111000100011010100011001100001110111001010111110110010100100110001000000001010011111010110000010110011101110000000000101101010000000010110100000011111011110000101001000000010101001100011011011110001101000001000101010000100100101001001110010001110110100010101010100000000101011010101111100101110111110100001100101110100100110111111111010111100111011010001010001011110000101001001111010001110000010100011\n",
        "\n",
        "q(2)=0100010011100111100011010100111010011011000111101001001100100110101010001011010111001110000110001100011010010011010100110101001101100011011111000001001110001011101010101110010011000110111101010000001101011100001010101011100100101110111000100111001111011001001100010011100101111010000000000110110011101000001001000100010101000000001001010010100110111000001010001101010110100111101110010100000001101111001111101101001000101100011110010001101000101011101001101010100110101011001110011100001011110101000101110101101101000101010011010010001111010011011101001000111110111000111000110100100110101001101101100101011100011111001101010101111011110000111010011100110010000000001010011010001100111101011101001011011011110011100100111011001011001000110010010010001001000111011001101000000000001100001010110110111011110001100001111001101111101010011010000000101000000001010101010100101010100101111010011111011010001111001010111001001110011111010001111111101111000001011000100101110000101000001011010010000111000101010110001010000001001110\n",
        "0: ───H───@───T───M───────\n",
        "          │\n",
        "1: ───H───X───@───S───M───\n",
        "              │\n",
        "2: ───H───────X───M───────\n",
        "\n",
        "\n",
        "\n",
        "\n",
        "Key Observations:\n",
        "Qubit 0 (Melody): Shows a relatively even mix of 0s and 1s, meaning melody choices are balanced.\n",
        "Qubit 1 (Harmony): Has a dominant \"1\" pattern, suggesting harmony is more active (possibly due to entanglement).\n",
        "Qubit 2 (Rhythm): Shows random variations, meaning that rhythmic structures evolve dynamically.\n",
        "\n",
        "Compared to Qiskit:\n",
        "\n",
        "Cirq provides a more probabilistic music evolution, rather than a clear harmonic structure.\n",
        "Cirq's phase gate and entanglement effects seem to impact the harmony more strongly than Qiskit.\n",
        "The higher entropy (mix of 0s and 1s) means Cirq introduces more variability in musical patterns.\n",
        "\n",
        "\n",
        "✅ Cirq is better for generative, improvisational quantum music rather than structured harmony.\n",
        "\n",
        "3. PennyLane Results\n",
        "\n",
        "Quantum Music Probabilities:\n",
        "\n",
        "[0.0261947, 0.0261947, 0.2238053, 0.2238053, 0.0261947, 0.0261947, 0.2238053, 0.2238053]\n",
        "\n",
        "Interpretation:\n",
        "Four dominant states (~22.3% each), meaning that PennyLane optimally selects a set of strong harmonic-rhythmic configurations.\n",
        "Four minor states (~2.6% each) indicate the system retains alternative musical paths but prefers structured decisions.\n",
        "\n",
        "Probabilistic Decision-Making:\n",
        "\n",
        "Unlike Qiskit (which produces absolute states) or Cirq (which spreads randomness), PennyLane optimizes a balance between exploration and structure.\n",
        "\n",
        "Compared to Qiskit & Cirq:\n",
        "\n",
        "Qiskit focuses on clear harmonic relationships (majority \"000\" and \"010\").\n",
        "Cirq generates high variability and improvisation.\n",
        "\n",
        "PennyLane optimizes for structured but flexible quantum-inspired decision-making.\n",
        "\n",
        "Qiskit: Best for structured, recursive fractal harmony in Cosmic Mode I (Fractal-Based Music).\n",
        "\n",
        "Cirq: Best for dynamic, improvisational music evolution, useful for Cosmic Mode II (Quantum Preparation).\n",
        "\n",
        "PennyLane: Best for AI-driven quantum-inspired music, ideal for Cosmic Mode III (Quantum Singularity).\n",
        "\n",
        "**✅ PennyLane is best suited for AI-driven music generation, using quantum machine learning to guide musical choices.**"
      ],
      "metadata": {
        "id": "8qqum9nGCbkL"
      }
    },
    {
      "cell_type": "code",
      "source": [
        "# AI-generated tempo and key selection (fallback: manual settings)\n",
        "def ai_decide_music_params():\n",
        "    keys = ['C', 'D', 'E', 'F', 'G', 'A', 'B']\n",
        "    modes = ['major', 'minor']\n",
        "    bpm = np.random.randint(60, 140)  # AI determines tempo\n",
        "    key = np.random.choice(keys) + \" \" + np.random.choice(modes)\n",
        "    return bpm, key\n",
        "\n",
        "BPM, KEY = ai_decide_music_params()\n",
        "print(f\"AI-Generated Music Key: {KEY}, BPM: {BPM}\")\n",
        "\n",
        "# Quantum Music Generator Circuit\n",
        "def quantum_music_circuit():\n",
        "    qc = QuantumCircuit(3)\n",
        "    qc.h([0, 1, 2])  # Superposition for melody, harmony, rhythm\n",
        "    qc.cx(0, 1)  # Entangle melody & harmony\n",
        "    qc.cx(1, 2)  # Entangle harmony & rhythm\n",
        "    qc.measure_all()\n",
        "\n",
        "    simulator = AerSimulator()  # Use AerSimulator directly\n",
        "    result = simulator.run(compiled_circuit, shots=1024).result()  # Pass shots to run\n",
        "    counts = list(result.get_counts().keys())[0]  # Get one quantum state\n",
        "    return counts\n",
        "\n",
        "# Convert quantum output to musical notation\n",
        "def quantum_to_music(state):\n",
        "    note_map = {\n",
        "        '000': 'C4', '001': 'D4', '010': 'E4', '011': 'F4',\n",
        "        '100': 'G4', '101': 'A4', '110': 'B4', '111': 'C5'\n",
        "    }\n",
        "    rhythm_map = {'00': 'quarter', '01': 'eighth', '10': 'sixteenth', '11': 'dotted'}\n",
        "    volume_map = {'0': 'p', '1': 'f'}  # Soft or Loud\n",
        "\n",
        "    melody = note_map[state[:3]]\n",
        "    rhythm = rhythm_map[state[1:3]]  # Use part of state for rhythm\n",
        "    dynamics = volume_map[state[-1]]\n",
        "\n",
        "    return melody, rhythm, dynamics\n",
        "\n",
        "# Generate Music Stream\n",
        "def generate_music():\n",
        "    state = quantum_music_circuit()\n",
        "    melody, rhythm, dynamics = quantum_to_music(state)\n",
        "\n",
        "    s = stream.Stream()\n",
        "    s.append(tempo.MetronomeMark(number=BPM))\n",
        "    s.append(meter.TimeSignature('4/4'))\n",
        "\n",
        "    n = note.Note(melody)\n",
        "    n.quarterLength = 1 if rhythm == 'quarter' else 0.5 if rhythm == 'eighth' else 0.25\n",
        "    n.volume.velocity = 80 if dynamics == 'f' else 40\n",
        "\n",
        "    s.append(n)\n",
        "    return s\n",
        "\n",
        "# Generate quantum-composed music\n",
        "music_stream = generate_music()\n",
        "music_stream.show('text')  # Show music notation\n"
      ],
      "metadata": {
        "colab": {
          "base_uri": "https://localhost:8080/"
        },
        "id": "mfCfINWl3ptt",
        "outputId": "d0f041f9-0af8-47cc-bd91-093efe3bcebf"
      },
      "execution_count": 42,
      "outputs": [
        {
          "output_type": "stream",
          "name": "stdout",
          "text": [
            "AI-Generated Music Key: A minor, BPM: 130\n",
            "{0.0} <music21.tempo.MetronomeMark allegro moderato Quarter=130>\n",
            "{0.0} <music21.meter.TimeSignature 4/4>\n",
            "{0.0} <music21.note.Note C>\n"
          ]
        }
      ]
    },
    {
      "cell_type": "code",
      "source": [
        "# Install dependencies (if not installed)\n",
        "# pip install qiskit cirq pennylane numpy music21\n",
        "from qiskit import QuantumCircuit, transpile, assemble\n",
        "from qiskit_aer import AerSimulator\n",
        "from qiskit.visualization import plot_histogram\n",
        "import pennylane as qml\n",
        "from pennylane import numpy as np\n",
        "import cirq\n",
        "import matplotlib.pyplot as plt\n",
        "from music21 import stream, note, tempo, meter\n"
      ],
      "metadata": {
        "id": "4fkX_X1n33tf"
      },
      "execution_count": 38,
      "outputs": []
    },
    {
      "cell_type": "code",
      "source": [
        "import pennylane as qml\n",
        "from pennylane import numpy as np\n",
        "\n",
        "# Define a 3-qubit quantum device (melody, harmony, rhythm)\n",
        "dev = qml.device(\"default.qubit\", wires=3)\n",
        "\n",
        "@qml.qnode(dev)\n",
        "def quantum_music_circuit(params):\n",
        "    # Apply Hadamard gates to introduce superposition\n",
        "    qml.Hadamard(wires=0)\n",
        "    qml.Hadamard(wires=1)\n",
        "    qml.Hadamard(wires=2)\n",
        "\n",
        "    # Entangle melody and harmony\n",
        "    qml.CNOT(wires=[0, 1])\n",
        "    qml.CNOT(wires=[1, 2])\n",
        "\n",
        "    # Apply parameterized rotations for probabilistic musical decision-making\n",
        "    qml.RX(params[0], wires=0)\n",
        "    qml.RY(params[1], wires=1)\n",
        "    qml.RZ(params[2], wires=2)\n",
        "\n",
        "    # Measure the final state\n",
        "    return qml.probs(wires=[0, 1, 2])\n",
        "\n",
        "# Random parameters for training the AI-generated quantum music\n",
        "params = np.random.uniform(0, np.pi, 3)\n",
        "\n",
        "# Run the quantum circuit\n",
        "output_probs = quantum_music_circuit(params)\n",
        "\n",
        "# Print the resulting probabilities\n",
        "print(\"Quantum Music Probabilities:\", output_probs)\n"
      ],
      "metadata": {
        "colab": {
          "base_uri": "https://localhost:8080/"
        },
        "id": "2Ij_RfST_R1h",
        "outputId": "c0cbae69-0793-47d6-aed0-80970d88d2b1"
      },
      "execution_count": 75,
      "outputs": [
        {
          "output_type": "stream",
          "name": "stdout",
          "text": [
            "Quantum Music Probabilities: [0.11627788 0.11627788 0.13372212 0.13372212 0.11627788 0.11627788\n",
            " 0.13372212 0.13372212]\n"
          ]
        }
      ]
    },
    {
      "cell_type": "code",
      "source": [
        "#!pip install cirq\\\n",
        "#!pip install qiskit\n",
        "#!pip install qiskit-aer\n",
        "#!pip install pylatexenc\n",
        "#!pip install pennylane\n",
        "#!pip install MatplotlibDrawer"
      ],
      "metadata": {
        "colab": {
          "base_uri": "https://localhost:8080/"
        },
        "id": "MYIl_c-1spVX",
        "outputId": "c24461b6-b4e6-4cc0-cbad-2cb032078117"
      },
      "execution_count": 32,
      "outputs": [
        {
          "output_type": "stream",
          "name": "stdout",
          "text": [
            "\u001b[31mERROR: Could not find a version that satisfies the requirement MatplotlibDrawer (from versions: none)\u001b[0m\u001b[31m\n",
            "\u001b[0m\u001b[31mERROR: No matching distribution found for MatplotlibDrawer\u001b[0m\u001b[31m\n",
            "\u001b[0m"
          ]
        }
      ]
    },
    {
      "cell_type": "code",
      "source": [
        "# Create qubits\n",
        "qubits = [cirq.GridQubit(i, 0) for i in range(3)]\n",
        "circuit = cirq.Circuit()\n",
        "\n",
        "# Apply Hadamard gates\n",
        "circuit.append(cirq.H(q) for q in qubits)\n",
        "\n",
        "# Measure qubits\n",
        "circuit.append(cirq.measure(*qubits))\n",
        "\n",
        "# Simulate the circuit\n",
        "simulator = cirq.Simulator()\n",
        "result = simulator.run(circuit, repetitions=1024)\n",
        "print(result.histogram(key=qubits))\n"
      ],
      "metadata": {
        "colab": {
          "base_uri": "https://localhost:8080/"
        },
        "id": "3WAX8i-k8oMK",
        "outputId": "32d9a12d-28b3-4a96-959d-9172fc18f5e1"
      },
      "execution_count": 52,
      "outputs": [
        {
          "output_type": "stream",
          "name": "stdout",
          "text": [
            "Counter({4: 145, 0: 135, 3: 134, 6: 132, 7: 123, 5: 122, 1: 118, 2: 115})\n"
          ]
        }
      ]
    },
    {
      "cell_type": "markdown",
      "source": [],
      "metadata": {
        "id": "1weG3jCl8r06"
      }
    },
    {
      "cell_type": "code",
      "source": [
        "# Create a quantum circuit with 3 qubits representing musical states\n",
        "qc = QuantumCircuit(3)\n",
        "\n",
        "# Apply Hadamard gates to create superposition\n",
        "qc.h([0, 1, 2])\n",
        "\n",
        "# Measure the qubits\n",
        "qc.measure_all()\n",
        "# Execute and visualize results\n",
        "backend = AerSimulator() # Use AerSimulator instead of Aer.get_backend\n",
        "# Change 'simulator' to 'backend' in the following line:\n",
        "compiled_circuit = transpile(qc, backend)\n",
        "\n",
        "print(result.get_counts())\n"
      ],
      "metadata": {
        "colab": {
          "base_uri": "https://localhost:8080/"
        },
        "id": "kh5nLixQ8S7A",
        "outputId": "5eefcfe0-e8eb-46d9-cd86-b8eaecf7c255"
      },
      "execution_count": 51,
      "outputs": [
        {
          "output_type": "stream",
          "name": "stdout",
          "text": [
            "{'0100': 61, '1110': 68, '0011': 64, '0111': 73, '1011': 74, '1100': 62, '0101': 71, '1001': 47, '1010': 68, '0001': 57, '1111': 69, '1000': 63, '0110': 55, '1101': 74, '0010': 65, '0000': 53}\n"
          ]
        }
      ]
    },
    {
      "cell_type": "code",
      "source": [
        "# Define a 3-qubit quantum device (melody, harmony, rhythm)\n",
        "dev = qml.device(\"default.qubit\", wires=3)\n",
        "\n",
        "@qml.qnode(dev)\n",
        "def quantum_music_circuit(params):\n",
        "    # Apply Hadamard gates to introduce superposition\n",
        "    qml.Hadamard(wires=0)\n",
        "    qml.Hadamard(wires=1)\n",
        "    qml.Hadamard(wires=2)\n",
        "\n",
        "    # Entangle melody and harmony\n",
        "    qml.CNOT(wires=[0, 1])\n",
        "    qml.CNOT(wires=[1, 2])\n",
        "\n",
        "    # Apply parameterized rotations for probabilistic musical decision-making\n",
        "    qml.RX(params[0], wires=0)\n",
        "    qml.RY(params[1], wires=1)\n",
        "    qml.RZ(params[2], wires=2)\n",
        "\n",
        "    # Measure the final state\n",
        "    return qml.probs(wires=[0, 1, 2])\n",
        "\n",
        "# Random parameters for training the AI-generated quantum music\n",
        "params = np.random.uniform(0, np.pi, 3)\n",
        "\n",
        "# Run the quantum circuit\n",
        "output_probs = quantum_music_circuit(params)\n",
        "\n",
        "# Print the resulting probabilities\n",
        "print(\"Quantum Music Probabilities:\", output_probs)\n"
      ],
      "metadata": {
        "colab": {
          "base_uri": "https://localhost:8080/"
        },
        "id": "m9IbMG7B0zSd",
        "outputId": "a8619172-c182-41fa-ef71-5f60a3e94f4e"
      },
      "execution_count": 36,
      "outputs": [
        {
          "output_type": "stream",
          "name": "stdout",
          "text": [
            "Quantum Music Probabilities: [0.0261947 0.0261947 0.2238053 0.2238053 0.0261947 0.0261947 0.2238053\n",
            " 0.2238053]\n"
          ]
        }
      ]
    },
    {
      "cell_type": "code",
      "source": [
        "# Define a Quantum Circuit with 3 qubits (melody, harmony, rhythm)\n",
        "qc = QuantumCircuit(3)\n",
        "\n",
        "# Apply Hadamard gates to create superposition (Multiple musical paths)\n",
        "qc.h([0, 1, 2])\n",
        "\n",
        "# Apply CNOT gates to entangle melody and harmony\n",
        "qc.cx(0, 1)  # Melody entangles with harmony\n",
        "qc.cx(1, 2)  # Harmony entangles with rhythm\n",
        "\n",
        "# Apply a Phase gate to introduce harmonic interference\n",
        "qc.p(np.pi / 4, 0)  # Phase shift in melody\n",
        "qc.p(np.pi / 2, 1)  # Phase shift in harmony\n",
        "\n",
        "# Apply a Quantum Fourier Transform (QFT) to simulate harmonic layering\n",
        "def qft(qc, n):\n",
        "    \"\"\"Performs Quantum Fourier Transform on first n qubits.\"\"\"\n",
        "    for i in range(n):\n",
        "        qc.h(i)\n",
        "        for j in range(i + 1, n):\n",
        "            qc.cp(np.pi / (2 ** (j - i)), j, i)\n",
        "\n",
        "qft(qc, 3)\n",
        "\n",
        "# Measure the qubits to collapse the musical state\n",
        "qc.measure_all()\n",
        "\n",
        "\n",
        "# Run the circuit on a simulator\n",
        "simulator = AerSimulator()  # Use AerSimulator directly\n",
        "compiled_circuit = transpile(qc, simulator)\n",
        "result = simulator.run(compiled_circuit, shots=1024).result()  # Pass shots to run\n",
        "counts = result.get_counts()\n",
        "\n",
        "\n",
        "\n",
        "# Print results\n",
        "print(\"Quantum Music State Distribution:\", counts)\n",
        "\n",
        "# Visualize circuit\n",
        "plot_histogram(counts)"
      ],
      "metadata": {
        "colab": {
          "base_uri": "https://localhost:8080/",
          "height": 464
        },
        "id": "YmrfBbLWy7Ey",
        "outputId": "5b778e99-9e8f-4235-f89a-fb8da4f8a204"
      },
      "execution_count": 34,
      "outputs": [
        {
          "output_type": "stream",
          "name": "stdout",
          "text": [
            "Quantum Music State Distribution: {'110': 203, '010': 215, '000': 454, '111': 120, '011': 32}\n"
          ]
        },
        {
          "output_type": "execute_result",
          "data": {
            "text/plain": [
              "<Figure size 640x480 with 1 Axes>"
            ],
            "image/png": "[encoded data removed]"
          },
          "metadata": {},
          "execution_count": 34
        }
      ]
    },
    {
      "cell_type": "code",
      "source": [
        "import cirq\n",
        "import numpy as np\n",
        "\n",
        "# Define three qubits for melody, harmony, and rhythm\n",
        "melody = cirq.LineQubit(0)\n",
        "harmony = cirq.LineQubit(1)\n",
        "rhythm = cirq.LineQubit(2)\n",
        "\n",
        "# Create the circuit\n",
        "circuit = cirq.Circuit()\n",
        "\n",
        "# Apply Hadamard gates to create superposition\n",
        "circuit.append([cirq.H(melody), cirq.H(harmony), cirq.H(rhythm)])\n",
        "\n",
        "# Entangle melody and harmony\n",
        "circuit.append(cirq.CNOT(melody, harmony))\n",
        "circuit.append(cirq.CNOT(harmony, rhythm))\n",
        "\n",
        "# Apply phase shifts to model harmonic interference\n",
        "circuit.append(cirq.Z(melody) ** (1/4))\n",
        "circuit.append(cirq.Z(harmony) ** (1/2))\n",
        "\n",
        "# Measure the circuit\n",
        "circuit.append([cirq.measure(melody), cirq.measure(harmony), cirq.measure(rhythm)])\n",
        "\n",
        "# Simulate the circuit\n",
        "simulator = cirq.Simulator()\n",
        "result = simulator.run(circuit, repetitions=1024)\n",
        "\n",
        "# Print results\n",
        "print(\"Quantum Music State Distribution:\", result)\n",
        "\n",
        "# Draw the circuit\n",
        "print(circuit)\n"
      ],
      "metadata": {
        "colab": {
          "base_uri": "https://localhost:8080/"
        },
        "id": "DVmehQpy0ro0",
        "outputId": "2edc82a1-93c6-49ce-9a44-fad6c7697c58"
      },
      "execution_count": 35,
      "outputs": [
        {
          "output_type": "stream",
          "name": "stdout",
          "text": [
            "Quantum Music State Distribution: q(0)=1010111111111001110110111010011001110100100010010101101001110110011000100000111000100111000101100001010110101100001000101110001000100110111011000001000101101101100111100011111111100010111010100101011101111010111100010011010001010100011001011111111110001101101001011011111011110001100110100000011011111010010000101010111010001111011000001000111110101100010000000011000001000010100110010011010111111111000001110111000010010000100000010111010010110111000100010000010001110111010001101100010101110101111011100000111001101010100101100011100011011011010111101110100001000110100110010110111100111110011110011010000111100100001101110100010101110000000100100100000010111010010001101101111110100010011111111100000000000010111101001110100100100000110100110001110010100011100110010000111010101011100000000111010110110001111110011111101011010101111011011101010100010101100000010000000100011011110010101010001010110010111101000010101011111101010001010010111000000110011010011010101110000110111100101111010010100111101100101100101011101011\n",
            "q(1)=0010010100001100001011011011111010101001110011001010110101111011110000001010101101101011100101110001100011100111000011110100110001100010001011010000110011010111011011110000111000100110010001010111101110111111001010010000001000101110011010010110111011011101010101101010111100000101010101100101100111001010111010110111101001011010000000010010011010010010111111001001111100011011110110010011101001001111011101001100100110101001001001010011000100011110110011010011010100101001001000111101011100111010001000100110101100101001011001101001111010001010001011111001111011000111111101001000111000000010100100101101011110100011110111111000100011010100011001100001110111001010111110110010100100110001000000001010011111010110000010110011101110000000000101101010000000010110100000011111011110000101001000000010101001100011011011110001101000001000101010000100100101001001110010001110110100010101010100000000101011010101111100101110111110100001100101110100100110111111111010111100111011010001010001011110000101001001111010001110000010100011\n",
            "q(2)=0100010011100111100011010100111010011011000111101001001100100110101010001011010111001110000110001100011010010011010100110101001101100011011111000001001110001011101010101110010011000110111101010000001101011100001010101011100100101110111000100111001111011001001100010011100101111010000000000110110011101000001001000100010101000000001001010010100110111000001010001101010110100111101110010100000001101111001111101101001000101100011110010001101000101011101001101010100110101011001110011100001011110101000101110101101101000101010011010010001111010011011101001000111110111000111000110100100110101001101101100101011100011111001101010101111011110000111010011100110010000000001010011010001100111101011101001011011011110011100100111011001011001000110010010010001001000111011001101000000000001100001010110110111011110001100001111001101111101010011010000000101000000001010101010100101010100101111010011111011010001111001010111001001110011111010001111111101111000001011000100101110000101000001011010010000111000101010110001010000001001110\n",
            "0: ───H───@───T───M───────\n",
            "          │\n",
            "1: ───H───X───@───S───M───\n",
            "              │\n",
            "2: ───H───────X───M───────\n"
          ]
        }
      ]
    },
    {
      "cell_type": "code",
      "source": [
        "# Create a 4-qubit quantum circuit for melody, harmony, rhythm, and instrumentation\n",
        "qc = QuantumCircuit(4)\n",
        "\n",
        "# Apply Hadamard Gate for Superposition (Exploring multiple musical states)\n",
        "qc.h([0, 1, 2, 3])\n",
        "\n",
        "# Apply CNOT for Entanglement (Ensuring musical interdependence)\n",
        "qc.cx(0, 1)  # Melody entangles with Harmony\n",
        "qc.cx(2, 3)  # Rhythm entangles with Instrumentation\n",
        "\n",
        "# Apply Phase Gates for Interference (Creating harmonic textures)\n",
        "qc.s(1)\n",
        "qc.s(3)\n",
        "\n",
        "# Apply Controlled-U Gate (Quantum Tunneling for unexpected transitions)\n",
        "# qc.cu1(np.pi/4, 0, 2)  # Connect melody to rhythm - Original line causing error\n",
        "# qc.cu1(np.pi/4, 1, 3)  # Connect harmony to instrumentation - Original line causing error\n",
        "\n",
        "# Replace cu1 with cp (controlled-phase) gate\n",
        "qc.cp(np.pi/4, 0, 2)  # Connect melody to rhythm using cp gate\n",
        "qc.cp(np.pi/4, 1, 3)  # Connect harmony to instrumentation using cp gate\n",
        "\n",
        "\n",
        "# Measure\n",
        "qc.measure_all()\n",
        "\n",
        "# Execute and visualize results\n",
        "backend = AerSimulator() # Use AerSimulator instead of Aer.get_backend\n",
        "# Change 'simulator' to 'backend' in the following line:\n",
        "compiled_circuit = transpile(qc, backend)\n",
        "#job = backend.run(compiled_circuit, shots=1024).result()  # Pass shots to run - This line is problematic\n",
        "# Remove the following line as 'job' is now the result\n",
        "# result = backend.run(job).result() # Execute the job on the backend\n",
        "\n",
        "# Execute on the backend and get the result\n",
        "job = backend.run(compiled_circuit, shots=1024)\n",
        "result = job.result()  # Get the Result object\n",
        "counts = result.get_counts(qc) # Get counts from the Result object\n",
        "\n",
        "plot_histogram(counts)"
      ],
      "metadata": {
        "colab": {
          "base_uri": "https://localhost:8080/",
          "height": 454
        },
        "id": "Lry6FyyN8Atu",
        "outputId": "7480f6bb-2346-4427-bca5-96b57c547302"
      },
      "execution_count": 48,
      "outputs": [
        {
          "output_type": "execute_result",
          "data": {
            "text/plain": [
              "<Figure size 640x480 with 1 Axes>"
            ],
            "image/png": "[encoded data removed]"
          },
          "metadata": {
            "image/png": {
              "width": 567,
              "height": 437
            }
          },
          "execution_count": 48
        }
      ]
    },
    {
      "cell_type": "code",
      "source": [
        "# Create a 4-qubit quantum circuit for melody, harmony, rhythm, and instrumentation\n",
        "qc = QuantumCircuit(4)\n",
        "\n",
        "# Apply Hadamard Gate for Superposition (Exploring multiple musical states)\n",
        "qc.h([0, 1, 2, 3])\n",
        "\n",
        "# Apply CNOT for Entanglement (Ensuring musical interdependence)\n",
        "qc.cx(0, 1)  # Melody entangles with Harmony\n",
        "qc.cx(2, 3)  # Rhythm entangles with Instrumentation\n",
        "\n",
        "# Apply Phase Gates for Interference (Creating harmonic textures)\n",
        "qc.s(1)\n",
        "qc.s(3)\n",
        "\n",
        "# Apply Controlled-U Gate (Quantum Tunneling for unexpected transitions)\n",
        "# qc.cu1(np.pi/4, 0, 2)  # Connect melody to rhythm - Original line causing error\n",
        "# qc.cu1(np.pi/4, 1, 3)  # Connect harmony to instrumentation - Original line causing error\n",
        "\n",
        "# Replace cu1 with cp (controlled-phase) gate\n",
        "qc.cp(np.pi/4, 0, 2)  # Connect melody to rhythm using cp gate\n",
        "qc.cp(np.pi/4, 1, 3)  # Connect harmony to instrumentation using cp gate\n",
        "\n",
        "\n",
        "# Measure\n",
        "qc.measure_all()\n",
        "\n",
        "# Execute and visualize results\n",
        "backend = AerSimulator() # Use AerSimulator instead of Aer.get_backend\n",
        "job = transpile(qc, backend) # Remove shots parameter from transpile\n",
        "result = backend.run(job, shots=1024).result() # Pass shots to backend.run\n",
        "counts = result.get_counts(qc)\n",
        "\n",
        "plot_histogram(counts)"
      ],
      "metadata": {
        "colab": {
          "base_uri": "https://localhost:8080/",
          "height": 454
        },
        "id": "sv8KyAiTwhPc",
        "outputId": "9d7a4eb6-221c-4cc1-81c2-a49d836a1018"
      },
      "execution_count": 49,
      "outputs": [
        {
          "output_type": "execute_result",
          "data": {
            "text/plain": [
              "<Figure size 640x480 with 1 Axes>"
            ],
            "image/png": "[encoded data removed]"
          },
          "metadata": {
            "image/png": {
              "width": 567,
              "height": 437
            }
          },
          "execution_count": 49
        }
      ]
    },
    {
      "cell_type": "code",
      "source": [
        "import pennylane as qml\n",
        "from pennylane import numpy as np\n",
        "\n",
        "n_qubits = 4  # Melody, Harmony, Rhythm, Instrumentation\n",
        "dev = qml.device(\"default.qubit\", wires=n_qubits)\n",
        "\n",
        "@qml.qnode(dev)\n",
        "def quantum_music_generation():\n",
        "    # Apply Hadamard for Superposition\n",
        "    for i in range(n_qubits):\n",
        "        qml.Hadamard(wires=i)\n",
        "\n",
        "    # Apply CNOT for Entanglement\n",
        "    qml.CNOT(wires=[0, 1])  # Melody ↔ Harmony\n",
        "    qml.CNOT(wires=[2, 3])  # Rhythm ↔ Instrumentation\n",
        "\n",
        "    # Apply Phase Shift for Interference\n",
        "    qml.PhaseShift(np.pi/4, wires=1)\n",
        "    qml.PhaseShift(np.pi/4, wires=3)\n",
        "\n",
        "    # Quantum Decision-Making (Randomized musical choice)\n",
        "    return [qml.expval(qml.PauliZ(i)) for i in range(n_qubits)]\n",
        "\n",
        "# Run simulation\n",
        "output = quantum_music_generation()\n",
        "print(\"Quantum Music State Probabilities:\", output)\n"
      ],
      "metadata": {
        "colab": {
          "base_uri": "https://localhost:8080/"
        },
        "id": "AL7469oNxABX",
        "outputId": "f8bed7fb-7ad3-42a3-a920-531c50c867b2"
      },
      "execution_count": 18,
      "outputs": [
        {
          "output_type": "stream",
          "name": "stdout",
          "text": [
            "Quantum Music State Probabilities: [0.0, 0.0, 0.0, 0.0]\n"
          ]
        }
      ]
    },
    {
      "cell_type": "code",
      "source": [
        "import cirq\n",
        "import numpy as np\n",
        "\n",
        "# Define qubits for Melody, Harmony, Rhythm, Instrumentation\n",
        "q0, q1, q2, q3 = cirq.LineQubit.range(4)\n",
        "\n",
        "# Create circuit\n",
        "circuit = cirq.Circuit()\n",
        "\n",
        "# Superposition: Melody, Harmony, Rhythm, Instrumentation\n",
        "circuit.append(cirq.H.on_each(q0, q1, q2, q3))\n",
        "\n",
        "# Entanglement: Connecting melodic and harmonic components\n",
        "circuit.append(cirq.CNOT(q0, q1))\n",
        "circuit.append(cirq.CNOT(q2, q3))\n",
        "\n",
        "# Phase Shift for Interference (Harmonic Interaction)\n",
        "circuit.append(cirq.S(q1))\n",
        "circuit.append(cirq.S(q3))\n",
        "\n",
        "# Quantum Decision-Making (Simulated Probabilistic Choice)\n",
        "circuit.append(cirq.measure(q0, q1, q2, q3, key='all_qubits')) # Add a key for all qubits\n",
        "\n",
        "# Simulate\n",
        "simulator = cirq.Simulator()\n",
        "result = simulator.run(circuit, repetitions=1024)\n",
        "print(result.histogram(key='all_qubits')) # Use the correct key"
      ],
      "metadata": {
        "colab": {
          "base_uri": "https://localhost:8080/"
        },
        "id": "0ANMiTrxw0WO",
        "outputId": "45541d5c-b98b-45ed-8906-c2390f2d5500"
      },
      "execution_count": 15,
      "outputs": [
        {
          "output_type": "stream",
          "name": "stdout",
          "text": [
            "Counter({10: 83, 8: 75, 0: 74, 1: 73, 6: 72, 12: 68, 15: 67, 13: 66, 4: 65, 11: 60, 7: 58, 2: 58, 14: 54, 3: 52, 5: 50, 9: 49})\n"
          ]
        }
      ]
    },
    {
      "cell_type": "code",
      "execution_count": 3,
      "metadata": {
        "colab": {
          "base_uri": "https://localhost:8080/"
        },
        "id": "Uq3s8AKWskR2",
        "outputId": "bc4dbe3d-17a4-432f-ee5a-bbfdf3e7149b"
      },
      "outputs": [
        {
          "output_type": "stream",
          "name": "stdout",
          "text": [
            "Quantum Music State Distribution: q(0)=0100111100101010101101000001111100111011000111001111100110100111000101111011001110001110111111111100000100001000011011100010000001100110100011001011100100101111010100111111111000110010101011101110110001000010011000001011010111010111101011100111111100101111011100101001011001000100111110010001101101100100011110100111010101011111100000000101010101111101111100001010010111111011111011000010011001010001111011101101101001100000111000001010100100111111100101001110001011100010110010000001000011101111000111001011001100000011101101100000110010010101110110001101101001111011011111100001110110100010011110111111100111010011001010001000111010001111000011010100111110110000000111111010011011101001111010100100001010101101010110001001110010001111100110111000101011100010000111100110000100010111111100101100011110100011101100111110110010011110100111111001000101010111011010011110011101011000100100110100100001101010100001000011110011101111001011100010011101001110100101101101101000000000110010110000011111110101000100100001001111110101\n",
            "q(1)=0010100000001111111010111100100100000100100101001110110011010010111100011110001101011100010011101101101011101011101001010111100010111001111100101000010101011001110010011101010010010111101011100010100101010110001101100101101010011011001111010010001111000110010001001100000011010101001011010010010000110011010011001110100010111111000110001010110111100111101100101110000111011110110110110110100001111001001110010111000010001110001101111110100010111000111000111110110011100000000111110101001000101100100100101101011110101000101001010101010010110000111000000010010111001111100011111101111001111001001111110011010110011111110111100000010011100110010101011011101101111011011111011100011111111111000011100100001101111100111111100011110001011110110111000000110110011010101000110000111100001100000001101110101000100011010110011100100001001010000111000001101001010001000111110000110010010001001010110011011101000110000111101010110011100010110111001001000000010101010101001111101011111000100010100011110100100010011001110111100010000000\n",
            "q(2)=0011010011111010100000001101010011101100000000000000000101110000111011010010010110010001011001010011111011011100000010010110111111011000001110110010000111011100010001101000010010010100110001010100110010001000101000010001001110001101000110111111110101010111001111001011111011010110001101111000111010100011110100110110010110010011010011111001101111101111001110101010010110101110100011101000111101101101000100000001000110000001001001110011111100101010110101101100011011100001101110101110100100001001000110101111001111101111001000101101100111001110111011000100011001010010001010100011101000010000011110001010111001100001011000001011001011100101100000110110111100001111111000011010010010000111010001010110110011110110011011010110001100101010110100111010110101110111000100011101000001111111001100101110110110100001101111101000100010101010010111100010111000011000111011010110100100110010100100101010011010011100010011110001100101100110100110101010010100000011010100111001001111110001111100011011111011110100010011100001110100111000\n",
            "0: ───H───@───T───M───────\n",
            "          │\n",
            "1: ───H───X───@───S───M───\n",
            "              │\n",
            "2: ───H───────X───M───────\n"
          ]
        }
      ],
      "source": [
        "import cirq\n",
        "import numpy as np\n",
        "\n",
        "# Define three qubits for melody, harmony, and rhythm\n",
        "melody = cirq.LineQubit(0)\n",
        "harmony = cirq.LineQubit(1)\n",
        "rhythm = cirq.LineQubit(2)\n",
        "\n",
        "# Create the circuit\n",
        "circuit = cirq.Circuit()\n",
        "\n",
        "# Apply Hadamard gates to create superposition\n",
        "circuit.append([cirq.H(melody), cirq.H(harmony), cirq.H(rhythm)])\n",
        "\n",
        "# Entangle melody and harmony\n",
        "circuit.append(cirq.CNOT(melody, harmony))\n",
        "circuit.append(cirq.CNOT(harmony, rhythm))\n",
        "\n",
        "# Apply phase shifts to model harmonic interference\n",
        "circuit.append(cirq.Z(melody) ** (1/4))\n",
        "circuit.append(cirq.Z(harmony) ** (1/2))\n",
        "\n",
        "# Measure the circuit\n",
        "circuit.append([cirq.measure(melody), cirq.measure(harmony), cirq.measure(rhythm)])\n",
        "\n",
        "# Simulate the circuit\n",
        "simulator = cirq.Simulator()\n",
        "result = simulator.run(circuit, repetitions=1024)\n",
        "\n",
        "# Print results\n",
        "print(\"Quantum Music State Distribution:\", result)\n",
        "\n",
        "# Draw the circuit\n",
        "print(circuit)\n"
      ]
    },
    {
      "cell_type": "code",
      "source": [
        "import cirq\n",
        "import numpy as np\n",
        "\n",
        "def fractal_harmony(n, x, a_k, r):\n",
        "    if n == 0:\n",
        "        return 0\n",
        "    return sum(a_k[k] * fractal_harmony(n-1, x - k*r, a_k, r) for k in range(len(a_k)))\n",
        "\n",
        "# Example coefficients and recursion depth\n",
        "a_k = [1, 0.5, 0.25]  # Harmonic amplitude coefficients\n",
        "r = 2  # Scaling factor\n",
        "n = 3  # Recursion depth\n",
        "\n",
        "print(fractal_harmony(n, 0, a_k, r))\n",
        "\n",
        "# Create qubits\n",
        "qubits = [cirq.GridQubit(i, 0) for i in range(3)]\n",
        "circuit = cirq.Circuit()\n",
        "\n",
        "# Apply Hadamard gates\n",
        "circuit.append(cirq.H(q) for q in qubits)\n",
        "\n",
        "# Measure qubits\n",
        "circuit.append(cirq.measure(*qubits))\n",
        "\n",
        "# Simulate the circuit\n",
        "simulator = cirq.Simulator()\n",
        "result = simulator.run(circuit, repetitions=1024)\n",
        "print(result.histogram(key=qubits))\n",
        "\n",
        "\n",
        "\n"
      ],
      "metadata": {
        "colab": {
          "base_uri": "https://localhost:8080/"
        },
        "id": "-WrnuS2JubpQ",
        "outputId": "c7f8514c-d55b-4c43-af57-1f0c65faae84"
      },
      "execution_count": 7,
      "outputs": [
        {
          "output_type": "stream",
          "name": "stdout",
          "text": [
            "0.0\n",
            "Counter({6: 147, 0: 133, 1: 131, 7: 130, 3: 126, 4: 126, 2: 120, 5: 111})\n"
          ]
        }
      ]
    },
    {
      "cell_type": "markdown",
      "source": [],
      "metadata": {
        "id": "TQ4zALZ4ubeg"
      }
    },
    {
      "cell_type": "code",
      "source": [
        "import cirq\n",
        "\n",
        "# Create qubits\n",
        "qubits = [cirq.GridQubit(i, 0) for i in range(3)]\n",
        "circuit = cirq.Circuit()\n",
        "\n",
        "# Apply Hadamard gates\n",
        "circuit.append(cirq.H(q) for q in qubits)\n",
        "\n",
        "# Measure qubits\n",
        "circuit.append(cirq.measure(*qubits))\n",
        "\n",
        "# Simulate the circuit\n",
        "simulator = cirq.Simulator()\n",
        "result = simulator.run(circuit, repetitions=1024)\n",
        "print(result.histogram(key=qubits))\n"
      ],
      "metadata": {
        "colab": {
          "base_uri": "https://localhost:8080/"
        },
        "id": "68L2mvJOvHlc",
        "outputId": "805317b0-2c0e-4451-b111-fcd699cef7b7"
      },
      "execution_count": 6,
      "outputs": [
        {
          "output_type": "stream",
          "name": "stdout",
          "text": [
            "Counter({3: 141, 7: 139, 5: 132, 1: 131, 4: 128, 2: 125, 6: 115, 0: 113})\n"
          ]
        }
      ]
    }
  ]
}